{
  "nbformat": 4,
  "nbformat_minor": 0,
  "metadata": {
    "colab": {
      "provenance": []
    },
    "kernelspec": {
      "name": "python3",
      "display_name": "Python 3"
    },
    "language_info": {
      "name": "python"
    }
  },
  "cells": [
    {
      "cell_type": "markdown",
      "source": [
        "#Theory Questions"
      ],
      "metadata": {
        "id": "nJ3UPQFc5gjm"
      }
    },
    {
      "cell_type": "markdown",
      "source": [
        "\n",
        "1. **What is Object-Oriented Programming (OOP)?**\n",
        "\n",
        "   OOP is a programming paradigm based on the concept of objects, which encapsulate data and behavior. It emphasizes concepts like inheritance, polymorphism, encapsulation, and abstraction.\n",
        "\n",
        "2. **What is a class in OOP?**\n",
        "\n",
        "   A class is a blueprint for creating objects, defining their properties (attributes) and behaviors (methods).\n",
        "\n",
        "3. **What is an object in OOP?**\n",
        "\n",
        "   An object is an instance of a class containing data and methods defined by the class.\n",
        "\n",
        "4. **Difference between abstraction and encapsulation:**\n",
        "\n",
        "   - Abstraction hides implementation details and shows only essential features.\n",
        "   - Encapsulation restricts access to some components of an object to enforce controlled interaction.\n",
        "\n",
        "5. **What are dunder methods in Python?**\n",
        "\n",
        "   Dunder (double underscore) methods are special methods in Python, such as `__init__` or `__str__`, that allow customization of object behavior.\n",
        "\n",
        "6. **Explain inheritance in OOP:**\n",
        "\n",
        "   Inheritance allows a class (child) to inherit attributes and methods from another class (parent).\n",
        "\n",
        "7. **What is polymorphism in OOP?**\n",
        "\n",
        "   Polymorphism allows objects to be treated as instances of their parent class, enabling one interface to support different underlying forms (e.g., method overriding).\n",
        "\n",
        "8. **How is encapsulation achieved in Python?**\n",
        "\n",
        "   Encapsulation is achieved using private (e.g., `_var`) and protected (e.g., `__var`) attributes and methods.\n",
        "\n",
        "9. **What is a constructor in Python?**\n",
        "\n",
        "   A constructor is a method (`__init__`) used to initialize the state of an object when it is created.\n",
        "\n",
        "10. **What are class and static methods in Python?**\n",
        "\n",
        "    - Class methods (`@classmethod`) operate on the class level.\n",
        "    - Static methods (`@staticmethod`) do not access class or instance attributes.\n",
        "\n",
        "11. **What is method overloading in Python?**\n",
        "\n",
        "    Python does not support traditional method overloading but allows default arguments to mimic it.\n",
        "\n",
        "12. **What is method overriding in OOP?**\n",
        "\n",
        "    Overriding allows a child class to redefine a method from its parent class.\n",
        "\n",
        "13. **What is a property decorator in Python?**\n",
        "\n",
        "    The `@property` decorator allows a method to be accessed as an attribute.\n",
        "\n",
        "14. **Why is polymorphism important in OOP?**\n",
        "\n",
        "    It provides flexibility by allowing different object types to be used interchangeably.\n",
        "\n",
        "15. **What is an abstract class in Python?**\n",
        "\n",
        "    An abstract class is a blueprint for other classes and cannot be instantiated. It uses `abc` module and must contain at least one abstract method.\n",
        "\n",
        "16. **Advantages of OOP:**\n",
        "    - Modular structure\n",
        "    - Code reuse through inheritance\n",
        "    - Easy maintenance and scalability\n",
        "\n",
        "17. **Difference between class and instance variables:**\n",
        "    - Class variables are shared across all instances.\n",
        "    - Instance variables are specific to each object.\n",
        "\n",
        "18. **What is multiple inheritance in Python?**\n",
        "\n",
        "    Multiple inheritance allows a class to inherit from more than one class.\n",
        "\n",
        "19. **Purpose of `__str__` and `__repr__`:**\n",
        "    - `__str__`: Defines how the object is presented to users.\n",
        "    - `__repr__`: Provides an official string representation for developers.\n",
        "\n",
        "20. **Significance of `super()` in Python:**\n",
        "\n",
        "    `super()` calls the parent class's methods or constructors.\n",
        "\n",
        "21. **Significance of `__del__`:**\n",
        "\n",
        "    It is a destructor method called when an object is about to be destroyed.\n",
        "\n",
        "22. **Difference between `@staticmethod` and `@classmethod`:**\n",
        "\n",
        "    - `@staticmethod`: Does not take `cls` or `self` as arguments.\n",
        "    - `@classmethod`: Takes `cls` as an argument and operates on the class.\n",
        "\n",
        "23. **How does polymorphism work with inheritance?**\n",
        "\n",
        "    By method overriding, where child classes provide specific implementations of methods from the parent class.\n",
        "\n",
        "24. **What is method chaining in Python OOP?**\n",
        "\n",
        "    Calling multiple methods in a single line by returning `self`.\n",
        "\n",
        "25. **Purpose of `__call__`:**\n",
        "\n",
        "    Allows an object to be called like a function.\n",
        "\n"
      ],
      "metadata": {
        "id": "YGuftGpx5j4o"
      }
    },
    {
      "cell_type": "markdown",
      "source": [
        "#Practical Questions"
      ],
      "metadata": {
        "id": "rTnruLNW16az"
      }
    },
    {
      "cell_type": "code",
      "source": [
        "#1 . Create a parent class Animal with a method speak() that prints a generic message. Create a child class Dog\n",
        "#that overrides the speak() method to print \"Bark!\".\n",
        "\n",
        "class Animal:\n",
        "    def speak(self):\n",
        "        print(\"This is a generic animal sound.\")\n",
        "\n",
        "class Dog(Animal):\n",
        "    def speak(self):\n",
        "        print(\"Bark!\")\n",
        "\n",
        "\n",
        "animal1 = Animal()\n",
        "animal1.speak()\n",
        "\n",
        "dog = Dog()\n",
        "dog.speak()\n"
      ],
      "metadata": {
        "colab": {
          "base_uri": "https://localhost:8080/"
        },
        "id": "k9QVTPWc2Cwa",
        "outputId": "6b30b234-3a01-4d6c-f2bb-878a1fcf8871"
      },
      "execution_count": 1,
      "outputs": [
        {
          "output_type": "stream",
          "name": "stdout",
          "text": [
            "This is a generic animal sound.\n",
            "Bark!\n"
          ]
        }
      ]
    },
    {
      "cell_type": "code",
      "source": [
        "#2 Write a program to create an abstract class Shape with a method area(). Derive classes Circle and Rectangle\n",
        "#from it and implement the area() method in both.\n",
        "\n",
        "from abc import ABC, abstractmethod\n",
        "\n",
        "class Shape(ABC):\n",
        "    @abstractmethod\n",
        "    def area(self):\n",
        "        pass\n",
        "\n",
        "class Circle(Shape):\n",
        "    def __init__(self, radius):\n",
        "        self.radius = radius\n",
        "\n",
        "    def area(self):\n",
        "        return 3.14159 * self.radius ** 2\n",
        "\n",
        "class Rectangle(Shape):\n",
        "    def __init__(self, length, width):\n",
        "        self.length = length\n",
        "        self.width = width\n",
        "\n",
        "    def area(self):\n",
        "        return self.length * self.width\n",
        "\n",
        "\n",
        "circle = Circle(5)\n",
        "print(\"Circle Area:\", circle.area())\n",
        "\n",
        "rectangle = Rectangle(4, 6)\n",
        "print(\"Rectangle Area:\", rectangle.area())\n"
      ],
      "metadata": {
        "colab": {
          "base_uri": "https://localhost:8080/"
        },
        "id": "7pylk4gn2QMo",
        "outputId": "7255108e-08bc-4d03-a36e-c5fbf8d64c59"
      },
      "execution_count": 2,
      "outputs": [
        {
          "output_type": "stream",
          "name": "stdout",
          "text": [
            "Circle Area: 78.53975\n",
            "Rectangle Area: 24\n"
          ]
        }
      ]
    },
    {
      "cell_type": "code",
      "source": [
        "#3 Implement a multi-level inheritance scenario where a class Vehicle has an attribute type. Derive a class Car\n",
        "#and further derive a class ElectricCar that adds a battery attribute.\n",
        "\n",
        "class Vehicle:\n",
        "    def __init__(self, vehicle_type):\n",
        "        self.type = vehicle_type\n",
        "\n",
        "class Car(Vehicle):\n",
        "    def __init__(self):\n",
        "        super().__init__(\"Car\")\n",
        "\n",
        "class ElectricCar(Car):\n",
        "    def __init__(self, battery_capacity):\n",
        "        super().__init__()\n",
        "        self.battery_capacity = battery_capacity\n",
        "\n",
        "\n",
        "tesla = ElectricCar(85)\n",
        "print(\"Vehicle Type:\", tesla.type)\n",
        "print(\"Battery Capacity:\", tesla.battery_capacity, \"kWh\")\n"
      ],
      "metadata": {
        "colab": {
          "base_uri": "https://localhost:8080/"
        },
        "id": "bNlR9lK52ZTO",
        "outputId": "c21106ab-b9b7-4b04-b57d-70fda790366f"
      },
      "execution_count": 3,
      "outputs": [
        {
          "output_type": "stream",
          "name": "stdout",
          "text": [
            "Vehicle Type: Car\n",
            "Battery Capacity: 85 kWh\n"
          ]
        }
      ]
    },
    {
      "cell_type": "code",
      "source": [
        "#4 . Implement a multi-level inheritance scenario where a class Vehicle has an attribute type. Derive a class Car\n",
        "#and further derive a class ElectricCar that adds a battery attribute.\n",
        "\n",
        "class Vehicle:\n",
        "    def __init__(self, vehicle_type):\n",
        "        self.type = vehicle_type\n",
        "\n",
        "class Car(Vehicle):\n",
        "    def __init__(self):\n",
        "        super().__init__(\"Car\")\n",
        "\n",
        "class ElectricCar(Car):\n",
        "    def __init__(self, battery_capacity):\n",
        "        super().__init__()\n",
        "        self.battery_capacity = battery_capacity\n",
        "\n",
        "\n",
        "tesla = ElectricCar(85)\n",
        "print(\"Vehicle Type:\", tesla.type)\n",
        "print(\"Battery Capacity:\", tesla.battery_capacity, \"kWh\")\n",
        "\n"
      ],
      "metadata": {
        "colab": {
          "base_uri": "https://localhost:8080/"
        },
        "id": "c2jWX_fF2jK4",
        "outputId": "c9980089-d777-417f-ec1b-c1e944aee7a4"
      },
      "execution_count": 4,
      "outputs": [
        {
          "output_type": "stream",
          "name": "stdout",
          "text": [
            "Vehicle Type: Car\n",
            "Battery Capacity: 85 kWh\n"
          ]
        }
      ]
    },
    {
      "cell_type": "code",
      "source": [
        "#5  Write a program to demonstrate encapsulation by creating a class BankAccount with private attributes\n",
        "#balance and methods to deposit, withdraw, and check balance.\n",
        "\n",
        "class BankAccount:\n",
        "    def __init__(self, initial_balance):\n",
        "        self.__balance = initial_balance\n",
        "\n",
        "    def deposit(self, amount):\n",
        "        if amount > 0:\n",
        "            self.__balance += amount\n",
        "\n",
        "    def withdraw(self, amount):\n",
        "        if 0 < amount <= self.__balance:\n",
        "            self.__balance -= amount\n",
        "\n",
        "    def get_balance(self):\n",
        "        return self.__balance\n",
        "\n",
        "\n",
        "account = BankAccount(1000)\n",
        "account.deposit(500)\n",
        "account.withdraw(200)\n",
        "print(\"Current Balance:\", account.get_balance())\n"
      ],
      "metadata": {
        "colab": {
          "base_uri": "https://localhost:8080/"
        },
        "id": "BHoj-vab2yfa",
        "outputId": "c2364d4a-6def-45ad-cb7a-4ac87a1f9206"
      },
      "execution_count": 5,
      "outputs": [
        {
          "output_type": "stream",
          "name": "stdout",
          "text": [
            "Current Balance: 1300\n"
          ]
        }
      ]
    },
    {
      "cell_type": "code",
      "source": [
        "#6 Demonstrate runtime polymorphism using a method play() in a base class Instrument. Derive classes Guitar\n",
        "#and Piano that implement their own version of play().\n",
        "\n",
        "class Instrument:\n",
        "    def play(self):\n",
        "        print(\"Playing an instrument.\")\n",
        "\n",
        "class Guitar(Instrument):\n",
        "    def play(self):\n",
        "        print(\"Strumming the guitar.\")\n",
        "\n",
        "class Piano(Instrument):\n",
        "    def play(self):\n",
        "        print(\"Playing the piano.\")\n",
        "\n",
        "guitar = Guitar()\n",
        "guitar.play()\n",
        "\n",
        "piano = Piano()\n",
        "piano.play()\n"
      ],
      "metadata": {
        "colab": {
          "base_uri": "https://localhost:8080/"
        },
        "id": "25sQUY4N21tZ",
        "outputId": "fe9521f0-2b17-4617-bb2e-beb664ab7167"
      },
      "execution_count": 6,
      "outputs": [
        {
          "output_type": "stream",
          "name": "stdout",
          "text": [
            "Strumming the guitar.\n",
            "Playing the piano.\n"
          ]
        }
      ]
    },
    {
      "cell_type": "code",
      "source": [
        "#7 Create a class MathOperations with a class method add_numbers() to add two numbers and a static\n",
        "#method subtract_numbers() to subtract two numbers.\n",
        "\n",
        "class MathOperations:\n",
        "    @classmethod\n",
        "    def add_numbers(cls, a, b):\n",
        "        return a + b\n",
        "\n",
        "    @staticmethod\n",
        "    def subtract_numbers(a, b):\n",
        "        return a - b\n",
        "\n",
        "\n",
        "print(\"Addition:\", MathOperations.add_numbers(5, 3))\n",
        "print(\"Subtraction:\", MathOperations.subtract_numbers(5, 3))\n"
      ],
      "metadata": {
        "colab": {
          "base_uri": "https://localhost:8080/"
        },
        "id": "WnkgclN22-ah",
        "outputId": "aa65557b-3f67-4879-bd6c-8bbb6dce50d9"
      },
      "execution_count": 7,
      "outputs": [
        {
          "output_type": "stream",
          "name": "stdout",
          "text": [
            "Addition: 8\n",
            "Subtraction: 2\n"
          ]
        }
      ]
    },
    {
      "cell_type": "code",
      "source": [
        "#8  Implement a class Person with a class method to count the total number of persons created.\n",
        "class Person:\n",
        "    count = 0  # Class variable to count persons\n",
        "\n",
        "    def __init__(self, name, age):\n",
        "        self.name = name\n",
        "        self.age = age\n",
        "        Person.count += 1\n",
        "\n",
        "    @classmethod\n",
        "    def get_count(cls):\n",
        "        return cls.count\n",
        "\n",
        "\n",
        "p1 = Person(\"Alice\", 30)\n",
        "p2 = Person(\"Bob\", 25)\n",
        "print(\"Total Persons:\", Person.get_count())\n"
      ],
      "metadata": {
        "colab": {
          "base_uri": "https://localhost:8080/"
        },
        "id": "cVNGDObL3GGP",
        "outputId": "42444e97-8ee2-4c87-fc23-f6d85d2f167b"
      },
      "execution_count": 8,
      "outputs": [
        {
          "output_type": "stream",
          "name": "stdout",
          "text": [
            "Total Persons: 2\n"
          ]
        }
      ]
    },
    {
      "cell_type": "code",
      "source": [
        "#9  Write a class Fraction with attributes numerator and denominator. Override the str method to display the\n",
        "#fraction as \"numerator/denominator\".\n",
        "\n",
        "class Fraction:\n",
        "    def __init__(self, numerator, denominator):\n",
        "        self.numerator = numerator\n",
        "        self.denominator = denominator\n",
        "\n",
        "    def __str__(self):\n",
        "        return f\"{self.numerator}/{self.denominator}\"\n",
        "\n",
        "\n",
        "fraction = Fraction(3, 4)\n",
        "print(\"Fraction:\", fraction)\n"
      ],
      "metadata": {
        "colab": {
          "base_uri": "https://localhost:8080/"
        },
        "id": "7jfv5qCt3NbP",
        "outputId": "42a8feb7-64e9-4d03-bd53-970485d4dc68"
      },
      "execution_count": 9,
      "outputs": [
        {
          "output_type": "stream",
          "name": "stdout",
          "text": [
            "Fraction: 3/4\n"
          ]
        }
      ]
    },
    {
      "cell_type": "code",
      "source": [
        "#10  Demonstrate operator overloading by creating a class Vector and overriding the add method to add two\n",
        "#vectors.\n",
        "\n",
        "class Vector:\n",
        "    def __init__(self, x, y):\n",
        "        self.x = x\n",
        "        self.y = y\n",
        "\n",
        "    def __add__(self, other):\n",
        "        return Vector(self.x + other.x, self.y + other.y)\n",
        "\n",
        "    def __str__(self):\n",
        "        return f\"Vector({self.x}, {self.y})\"\n",
        "\n",
        "\n",
        "v1 = Vector(1, 2)\n",
        "v2 = Vector(3, 4)\n",
        "v3 = v1 + v2\n",
        "print(v3)\n"
      ],
      "metadata": {
        "colab": {
          "base_uri": "https://localhost:8080/"
        },
        "id": "8plg69gI3WcP",
        "outputId": "9711973f-6786-44e3-81f4-81235e2b444b"
      },
      "execution_count": 10,
      "outputs": [
        {
          "output_type": "stream",
          "name": "stdout",
          "text": [
            "Vector(4, 6)\n"
          ]
        }
      ]
    },
    {
      "cell_type": "code",
      "source": [
        "#10  Create a class Person with attributes name and age. Add a method greet() that prints \"Hello, my name is\n",
        "#{name} and I am {age} years old.\"\n",
        "\n",
        "class Vehicle:\n",
        "    def __init__(self, vehicle_type):\n",
        "        self.type = vehicle_type\n",
        "\n",
        "class Car(Vehicle):\n",
        "    def __init__(self):\n",
        "        super().__init__(\"Car\")\n",
        "\n",
        "class ElectricCar(Car):\n",
        "    def __init__(self, battery_capacity):\n",
        "        super().__init__()\n",
        "        self.battery_capacity = battery_capacity\n",
        "\n",
        "\n",
        "tesla = ElectricCar(85)\n",
        "print(\"Vehicle Type:\", tesla.type)\n",
        "print(\"Battery Capacity:\", tesla.battery_capacity, \"kWh\")\n"
      ],
      "metadata": {
        "colab": {
          "base_uri": "https://localhost:8080/"
        },
        "id": "ymncH9Ii3cPN",
        "outputId": "12997270-f2ad-4ee3-f176-8e6641a00ca9"
      },
      "execution_count": 11,
      "outputs": [
        {
          "output_type": "stream",
          "name": "stdout",
          "text": [
            "Vehicle Type: Car\n",
            "Battery Capacity: 85 kWh\n"
          ]
        }
      ]
    },
    {
      "cell_type": "code",
      "source": [
        "#12  Implement a class Student with attributes name and grades. Create a method average_grade() to compute\n",
        "#the average of the grades.\n",
        "\n",
        "class Student:\n",
        "    def __init__(self, name, grades):\n",
        "        self.name = name\n",
        "        self.grades = grades\n",
        "\n",
        "    def average_grade(self):\n",
        "        return sum(self.grades) / len(self.grades)\n",
        "\n",
        "\n",
        "student = Student(\"Alice\", [85, 90, 78])\n",
        "print(\"Average Grade:\", student.average_grade())\n"
      ],
      "metadata": {
        "colab": {
          "base_uri": "https://localhost:8080/"
        },
        "id": "St_2P2593zSi",
        "outputId": "d74c8cd9-db26-455c-a475-7ba86139da64"
      },
      "execution_count": 12,
      "outputs": [
        {
          "output_type": "stream",
          "name": "stdout",
          "text": [
            "Average Grade: 84.33333333333333\n"
          ]
        }
      ]
    },
    {
      "cell_type": "code",
      "source": [
        "#13 Create a class Rectangle with methods set_dimensions() to set the dimensions and area() to calculate the\n",
        "#area.\n",
        "\n",
        "class rectangle:\n",
        "  def set_dimensions(self,length,width):\n",
        "    self.length=length\n",
        "    self.width=width\n",
        "  def area(self):\n",
        "    return self.length*self.width\n",
        "\n",
        "r1=rectangle()\n",
        "r1.set_dimensions(4,5)\n",
        "print(r1.area())"
      ],
      "metadata": {
        "colab": {
          "base_uri": "https://localhost:8080/"
        },
        "id": "BTEwoNvh38dU",
        "outputId": "d9115713-e372-4f8b-fd9f-1f95c329efb0"
      },
      "execution_count": 13,
      "outputs": [
        {
          "output_type": "stream",
          "name": "stdout",
          "text": [
            "20\n"
          ]
        }
      ]
    },
    {
      "cell_type": "code",
      "source": [
        "#14  Create a class Employee with a method calculate_salary() that computes the salary based on hours worked\n",
        "#and hourly rate. Create a derived class Manager that adds a bonus to the salary.\n",
        "\n",
        "class Employee:\n",
        "    def __init__(self, hourly_rate):\n",
        "        self.hourly_rate = hourly_rate\n",
        "\n",
        "    def calculate_salary(self, hours_worked):\n",
        "        return self.hourly_rate * hours_worked\n",
        "\n",
        "class Manager(Employee):\n",
        "    def __init__(self, hourly_rate, bonus):\n",
        "        super().__init__(hourly_rate)\n",
        "        self.bonus = bonus\n",
        "\n",
        "    def calculate_salary(self, hours_worked):\n",
        "        return super().calculate_salary(hours_worked) + self.bonus\n",
        "\n",
        "\n",
        "manager = Manager(50, 1000)\n",
        "print(\"Manager's Salary:\", manager.calculate_salary(40))\n"
      ],
      "metadata": {
        "colab": {
          "base_uri": "https://localhost:8080/"
        },
        "id": "hFuDuaT_4o5o",
        "outputId": "5d9daa12-f600-4442-c4a5-cb205e560573"
      },
      "execution_count": 14,
      "outputs": [
        {
          "output_type": "stream",
          "name": "stdout",
          "text": [
            "Manager's Salary: 3000\n"
          ]
        }
      ]
    },
    {
      "cell_type": "code",
      "source": [
        "#15 . Create a class Product with attributes name, price, and quantity. Implement a method total_price() that\n",
        "#calculates the total price of the product.\n",
        "\n",
        "class Product:\n",
        "    def __init__(self, name, price, quantity):\n",
        "        self.name = name\n",
        "        self.price = price\n",
        "        self.quantity = quantity\n",
        "\n",
        "    def total_price(self):\n",
        "        return self.price * self.quantity\n",
        "\n",
        "\n",
        "product = Product(\"Laptop\", 1000, 3)\n",
        "print(\"Total Price:\", product.total_price())\n",
        "\n",
        "\n"
      ],
      "metadata": {
        "colab": {
          "base_uri": "https://localhost:8080/"
        },
        "id": "dD44gJGb4vy3",
        "outputId": "99b6ed04-1fda-4a5c-cbaa-a7357ce5437d"
      },
      "execution_count": 15,
      "outputs": [
        {
          "output_type": "stream",
          "name": "stdout",
          "text": [
            "Total Price: 3000\n"
          ]
        }
      ]
    },
    {
      "cell_type": "code",
      "source": [
        "#16 Create a class Animal with an abstract method sound(). Create two derived classes Cow and Sheep that\n",
        "#implement the sound() method.\n",
        "\n",
        "from abc import ABC, abstractmethod\n",
        "\n",
        "class Animal(ABC):\n",
        "    @abstractmethod\n",
        "    def sound(self):\n",
        "        pass\n",
        "\n",
        "class Cow(Animal):\n",
        "    def sound(self):\n",
        "        return \"Moo\"\n",
        "\n",
        "class Sheep(Animal):\n",
        "    def sound(self):\n",
        "        return \"Baa\"\n",
        "\n",
        "cow = Cow()\n",
        "sheep = Sheep()\n",
        "print(\"Cow Sound:\", cow.sound())\n",
        "print(\"Sheep Sound:\", sheep.sound())\n"
      ],
      "metadata": {
        "colab": {
          "base_uri": "https://localhost:8080/"
        },
        "id": "J0F3W0Zw432-",
        "outputId": "271b8e2b-82e4-4a6c-ba1f-7f566a1f9723"
      },
      "execution_count": 16,
      "outputs": [
        {
          "output_type": "stream",
          "name": "stdout",
          "text": [
            "Cow Sound: Moo\n",
            "Sheep Sound: Baa\n"
          ]
        }
      ]
    },
    {
      "cell_type": "code",
      "source": [
        "#17  Create a class Book with attributes title, author, and year_published. Add a method get_book_info() that\n",
        "#returns a formatted string with the book's details.\n",
        "\n",
        "class Book:\n",
        "    def __init__(self, title, author, year_published):\n",
        "        self.title = title\n",
        "        self.author = author\n",
        "        self.year_published = year_published\n",
        "\n",
        "    def get_book_info(self):\n",
        "        return f\"Title: {self.title}, Author: {self.author}, Year: {self.year_published}\"\n",
        "\n",
        "book = Book(\"1984\", \"George Orwell\", 1949)\n",
        "print(book.get_book_info())\n"
      ],
      "metadata": {
        "colab": {
          "base_uri": "https://localhost:8080/"
        },
        "id": "LLr59zFo4_wg",
        "outputId": "40479584-ac04-4d03-b6f4-4c4b5658ff9e"
      },
      "execution_count": 17,
      "outputs": [
        {
          "output_type": "stream",
          "name": "stdout",
          "text": [
            "Title: 1984, Author: George Orwell, Year: 1949\n"
          ]
        }
      ]
    },
    {
      "cell_type": "code",
      "source": [
        "#18 Create a class House with attributes address and price. Create a derived class Mansion that adds an\n",
        "#attribute number_of_rooms.\n",
        "\n",
        "class House:\n",
        "    def __init__(self, address, price):\n",
        "        self.address = address\n",
        "        self.price = price\n",
        "\n",
        "class Mansion(House):\n",
        "    def __init__(self, address, price, number_of_rooms):\n",
        "        super().__init__(address, price)\n",
        "        self.number_of_rooms = number_of_rooms\n",
        "\n",
        "\n",
        "mansion = Mansion(\"123 Luxury Lane\", 5000000, 10)\n",
        "print(f\"Address: {mansion.address}, Price: {mansion.price}, Rooms: {mansion.number_of_rooms}\")\n"
      ],
      "metadata": {
        "colab": {
          "base_uri": "https://localhost:8080/"
        },
        "id": "eol8lUxB5GXH",
        "outputId": "43f27245-029f-47f6-ed27-a6eacba08991"
      },
      "execution_count": 18,
      "outputs": [
        {
          "output_type": "stream",
          "name": "stdout",
          "text": [
            "Address: 123 Luxury Lane, Price: 5000000, Rooms: 10\n"
          ]
        }
      ]
    },
    {
      "cell_type": "code",
      "source": [],
      "metadata": {
        "id": "Pvr_e7HH5NVr"
      },
      "execution_count": null,
      "outputs": []
    }
  ]
}